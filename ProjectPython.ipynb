{
 "cells": [
  {
   "cell_type": "markdown",
   "id": "b00be452",
   "metadata": {},
   "source": [
    "# 1. Importing the required libraries to the notebook¶"
   ]
  },
  {
   "cell_type": "code",
   "execution_count": 14,
   "id": "baa8faf2",
   "metadata": {},
   "outputs": [],
   "source": [
    "import pandas as pd\n",
    "import matplotlib.pyplot as plt\n",
    "import seaborn as sns\n",
    "%matplotlib inline"
   ]
  },
  {
   "cell_type": "markdown",
   "id": "afa05136",
   "metadata": {},
   "source": [
    "# 2.Importing the titanic.csv data file into the notebook."
   ]
  },
  {
   "cell_type": "code",
   "execution_count": 15,
   "id": "9a5c5ed4",
   "metadata": {},
   "outputs": [
    {
     "data": {
      "text/html": [
       "<div>\n",
       "<style scoped>\n",
       "    .dataframe tbody tr th:only-of-type {\n",
       "        vertical-align: middle;\n",
       "    }\n",
       "\n",
       "    .dataframe tbody tr th {\n",
       "        vertical-align: top;\n",
       "    }\n",
       "\n",
       "    .dataframe thead th {\n",
       "        text-align: right;\n",
       "    }\n",
       "</style>\n",
       "<table border=\"1\" class=\"dataframe\">\n",
       "  <thead>\n",
       "    <tr style=\"text-align: right;\">\n",
       "      <th></th>\n",
       "      <th>PassengerId</th>\n",
       "      <th>Survived</th>\n",
       "      <th>Pclass</th>\n",
       "      <th>Name</th>\n",
       "      <th>Sex</th>\n",
       "      <th>Age</th>\n",
       "      <th>SibSp</th>\n",
       "      <th>Parch</th>\n",
       "      <th>Ticket</th>\n",
       "      <th>Fare</th>\n",
       "      <th>Cabin</th>\n",
       "      <th>Embarked</th>\n",
       "    </tr>\n",
       "  </thead>\n",
       "  <tbody>\n",
       "    <tr>\n",
       "      <th>0</th>\n",
       "      <td>1</td>\n",
       "      <td>0</td>\n",
       "      <td>3</td>\n",
       "      <td>Braund, Mr. Owen Harris</td>\n",
       "      <td>male</td>\n",
       "      <td>22.0</td>\n",
       "      <td>1</td>\n",
       "      <td>0</td>\n",
       "      <td>A/5 21171</td>\n",
       "      <td>7.2500</td>\n",
       "      <td>NaN</td>\n",
       "      <td>S</td>\n",
       "    </tr>\n",
       "    <tr>\n",
       "      <th>1</th>\n",
       "      <td>2</td>\n",
       "      <td>1</td>\n",
       "      <td>1</td>\n",
       "      <td>Cumings, Mrs. John Bradley (Florence Briggs Th...</td>\n",
       "      <td>female</td>\n",
       "      <td>38.0</td>\n",
       "      <td>1</td>\n",
       "      <td>0</td>\n",
       "      <td>PC 17599</td>\n",
       "      <td>71.2833</td>\n",
       "      <td>C85</td>\n",
       "      <td>C</td>\n",
       "    </tr>\n",
       "    <tr>\n",
       "      <th>2</th>\n",
       "      <td>3</td>\n",
       "      <td>1</td>\n",
       "      <td>3</td>\n",
       "      <td>Heikkinen, Miss. Laina</td>\n",
       "      <td>female</td>\n",
       "      <td>26.0</td>\n",
       "      <td>0</td>\n",
       "      <td>0</td>\n",
       "      <td>STON/O2. 3101282</td>\n",
       "      <td>7.9250</td>\n",
       "      <td>NaN</td>\n",
       "      <td>S</td>\n",
       "    </tr>\n",
       "    <tr>\n",
       "      <th>3</th>\n",
       "      <td>4</td>\n",
       "      <td>1</td>\n",
       "      <td>1</td>\n",
       "      <td>Futrelle, Mrs. Jacques Heath (Lily May Peel)</td>\n",
       "      <td>female</td>\n",
       "      <td>35.0</td>\n",
       "      <td>1</td>\n",
       "      <td>0</td>\n",
       "      <td>113803</td>\n",
       "      <td>53.1000</td>\n",
       "      <td>C123</td>\n",
       "      <td>S</td>\n",
       "    </tr>\n",
       "    <tr>\n",
       "      <th>4</th>\n",
       "      <td>5</td>\n",
       "      <td>0</td>\n",
       "      <td>3</td>\n",
       "      <td>Allen, Mr. William Henry</td>\n",
       "      <td>male</td>\n",
       "      <td>35.0</td>\n",
       "      <td>0</td>\n",
       "      <td>0</td>\n",
       "      <td>373450</td>\n",
       "      <td>8.0500</td>\n",
       "      <td>NaN</td>\n",
       "      <td>S</td>\n",
       "    </tr>\n",
       "    <tr>\n",
       "      <th>...</th>\n",
       "      <td>...</td>\n",
       "      <td>...</td>\n",
       "      <td>...</td>\n",
       "      <td>...</td>\n",
       "      <td>...</td>\n",
       "      <td>...</td>\n",
       "      <td>...</td>\n",
       "      <td>...</td>\n",
       "      <td>...</td>\n",
       "      <td>...</td>\n",
       "      <td>...</td>\n",
       "      <td>...</td>\n",
       "    </tr>\n",
       "    <tr>\n",
       "      <th>886</th>\n",
       "      <td>887</td>\n",
       "      <td>0</td>\n",
       "      <td>2</td>\n",
       "      <td>Montvila, Rev. Juozas</td>\n",
       "      <td>male</td>\n",
       "      <td>27.0</td>\n",
       "      <td>0</td>\n",
       "      <td>0</td>\n",
       "      <td>211536</td>\n",
       "      <td>13.0000</td>\n",
       "      <td>NaN</td>\n",
       "      <td>S</td>\n",
       "    </tr>\n",
       "    <tr>\n",
       "      <th>887</th>\n",
       "      <td>888</td>\n",
       "      <td>1</td>\n",
       "      <td>1</td>\n",
       "      <td>Graham, Miss. Margaret Edith</td>\n",
       "      <td>female</td>\n",
       "      <td>19.0</td>\n",
       "      <td>0</td>\n",
       "      <td>0</td>\n",
       "      <td>112053</td>\n",
       "      <td>30.0000</td>\n",
       "      <td>B42</td>\n",
       "      <td>S</td>\n",
       "    </tr>\n",
       "    <tr>\n",
       "      <th>888</th>\n",
       "      <td>889</td>\n",
       "      <td>0</td>\n",
       "      <td>3</td>\n",
       "      <td>Johnston, Miss. Catherine Helen \"Carrie\"</td>\n",
       "      <td>female</td>\n",
       "      <td>NaN</td>\n",
       "      <td>1</td>\n",
       "      <td>2</td>\n",
       "      <td>W./C. 6607</td>\n",
       "      <td>23.4500</td>\n",
       "      <td>NaN</td>\n",
       "      <td>S</td>\n",
       "    </tr>\n",
       "    <tr>\n",
       "      <th>889</th>\n",
       "      <td>890</td>\n",
       "      <td>1</td>\n",
       "      <td>1</td>\n",
       "      <td>Behr, Mr. Karl Howell</td>\n",
       "      <td>male</td>\n",
       "      <td>26.0</td>\n",
       "      <td>0</td>\n",
       "      <td>0</td>\n",
       "      <td>111369</td>\n",
       "      <td>30.0000</td>\n",
       "      <td>C148</td>\n",
       "      <td>C</td>\n",
       "    </tr>\n",
       "    <tr>\n",
       "      <th>890</th>\n",
       "      <td>891</td>\n",
       "      <td>0</td>\n",
       "      <td>3</td>\n",
       "      <td>Dooley, Mr. Patrick</td>\n",
       "      <td>male</td>\n",
       "      <td>32.0</td>\n",
       "      <td>0</td>\n",
       "      <td>0</td>\n",
       "      <td>370376</td>\n",
       "      <td>7.7500</td>\n",
       "      <td>NaN</td>\n",
       "      <td>Q</td>\n",
       "    </tr>\n",
       "  </tbody>\n",
       "</table>\n",
       "<p>891 rows × 12 columns</p>\n",
       "</div>"
      ],
      "text/plain": [
       "     PassengerId  Survived  Pclass  \\\n",
       "0              1         0       3   \n",
       "1              2         1       1   \n",
       "2              3         1       3   \n",
       "3              4         1       1   \n",
       "4              5         0       3   \n",
       "..           ...       ...     ...   \n",
       "886          887         0       2   \n",
       "887          888         1       1   \n",
       "888          889         0       3   \n",
       "889          890         1       1   \n",
       "890          891         0       3   \n",
       "\n",
       "                                                  Name     Sex   Age  SibSp  \\\n",
       "0                              Braund, Mr. Owen Harris    male  22.0      1   \n",
       "1    Cumings, Mrs. John Bradley (Florence Briggs Th...  female  38.0      1   \n",
       "2                               Heikkinen, Miss. Laina  female  26.0      0   \n",
       "3         Futrelle, Mrs. Jacques Heath (Lily May Peel)  female  35.0      1   \n",
       "4                             Allen, Mr. William Henry    male  35.0      0   \n",
       "..                                                 ...     ...   ...    ...   \n",
       "886                              Montvila, Rev. Juozas    male  27.0      0   \n",
       "887                       Graham, Miss. Margaret Edith  female  19.0      0   \n",
       "888           Johnston, Miss. Catherine Helen \"Carrie\"  female   NaN      1   \n",
       "889                              Behr, Mr. Karl Howell    male  26.0      0   \n",
       "890                                Dooley, Mr. Patrick    male  32.0      0   \n",
       "\n",
       "     Parch            Ticket     Fare Cabin Embarked  \n",
       "0        0         A/5 21171   7.2500   NaN        S  \n",
       "1        0          PC 17599  71.2833   C85        C  \n",
       "2        0  STON/O2. 3101282   7.9250   NaN        S  \n",
       "3        0            113803  53.1000  C123        S  \n",
       "4        0            373450   8.0500   NaN        S  \n",
       "..     ...               ...      ...   ...      ...  \n",
       "886      0            211536  13.0000   NaN        S  \n",
       "887      0            112053  30.0000   B42        S  \n",
       "888      2        W./C. 6607  23.4500   NaN        S  \n",
       "889      0            111369  30.0000  C148        C  \n",
       "890      0            370376   7.7500   NaN        Q  \n",
       "\n",
       "[891 rows x 12 columns]"
      ]
     },
     "execution_count": 15,
     "metadata": {},
     "output_type": "execute_result"
    }
   ],
   "source": [
    "df=pd.read_csv(r\"D:\\Data Analyst\\4Python\\Project\\titanic_train.csv\")\n",
    "df"
   ]
  },
  {
   "cell_type": "markdown",
   "id": "8f20ccfa",
   "metadata": {},
   "source": [
    "## 3.Checking for missing data in the columns"
   ]
  },
  {
   "cell_type": "code",
   "execution_count": 16,
   "id": "0381a463",
   "metadata": {},
   "outputs": [
    {
     "name": "stdout",
     "output_type": "stream",
     "text": [
      "<class 'pandas.core.frame.DataFrame'>\n",
      "RangeIndex: 891 entries, 0 to 890\n",
      "Data columns (total 12 columns):\n",
      " #   Column       Non-Null Count  Dtype  \n",
      "---  ------       --------------  -----  \n",
      " 0   PassengerId  891 non-null    int64  \n",
      " 1   Survived     891 non-null    int64  \n",
      " 2   Pclass       891 non-null    int64  \n",
      " 3   Name         891 non-null    object \n",
      " 4   Sex          891 non-null    object \n",
      " 5   Age          714 non-null    float64\n",
      " 6   SibSp        891 non-null    int64  \n",
      " 7   Parch        891 non-null    int64  \n",
      " 8   Ticket       891 non-null    object \n",
      " 9   Fare         891 non-null    float64\n",
      " 10  Cabin        204 non-null    object \n",
      " 11  Embarked     889 non-null    object \n",
      "dtypes: float64(2), int64(5), object(5)\n",
      "memory usage: 83.7+ KB\n"
     ]
    }
   ],
   "source": [
    "df.info()"
   ]
  },
  {
   "cell_type": "code",
   "execution_count": 17,
   "id": "2e4b8418",
   "metadata": {},
   "outputs": [
    {
     "data": {
      "text/plain": [
       "PassengerId      0\n",
       "Survived         0\n",
       "Pclass           0\n",
       "Name             0\n",
       "Sex              0\n",
       "Age            177\n",
       "SibSp            0\n",
       "Parch            0\n",
       "Ticket           0\n",
       "Fare             0\n",
       "Cabin          687\n",
       "Embarked         2\n",
       "dtype: int64"
      ]
     },
     "execution_count": 17,
     "metadata": {},
     "output_type": "execute_result"
    }
   ],
   "source": [
    "df.isna().sum()"
   ]
  },
  {
   "cell_type": "code",
   "execution_count": 18,
   "id": "5e16a9d1",
   "metadata": {},
   "outputs": [
    {
     "data": {
      "text/plain": [
       "PassengerId      0\n",
       "Survived         0\n",
       "Pclass           0\n",
       "Name             0\n",
       "Sex              0\n",
       "Age            177\n",
       "SibSp            0\n",
       "Parch            0\n",
       "Ticket           0\n",
       "Fare             0\n",
       "Cabin          687\n",
       "Embarked         2\n",
       "dtype: int64"
      ]
     },
     "execution_count": 18,
     "metadata": {},
     "output_type": "execute_result"
    }
   ],
   "source": [
    "df.isnull().sum()"
   ]
  },
  {
   "cell_type": "code",
   "execution_count": 19,
   "id": "fffb2001",
   "metadata": {},
   "outputs": [],
   "source": [
    "# Conclusions after checking:\n",
    "# Columns: Age, Cabin, Embarked contain null values. \n",
    "# Column Cabin contains too many null values, so it will be deleted from the DataFrame. \n",
    "# Column Age will be completed with median age for women and men,corresponding.\n",
    "# Column Embarked will be completed with the most commonly appearing value. "
   ]
  },
  {
   "cell_type": "markdown",
   "id": "021ff3cb",
   "metadata": {},
   "source": [
    "## 4. Deleting column Cabin"
   ]
  },
  {
   "cell_type": "code",
   "execution_count": 20,
   "id": "b00c7cee",
   "metadata": {},
   "outputs": [],
   "source": [
    "df=df.drop('Cabin',axis=1)"
   ]
  },
  {
   "cell_type": "code",
   "execution_count": 21,
   "id": "bd4699f7",
   "metadata": {},
   "outputs": [
    {
     "data": {
      "text/html": [
       "<div>\n",
       "<style scoped>\n",
       "    .dataframe tbody tr th:only-of-type {\n",
       "        vertical-align: middle;\n",
       "    }\n",
       "\n",
       "    .dataframe tbody tr th {\n",
       "        vertical-align: top;\n",
       "    }\n",
       "\n",
       "    .dataframe thead th {\n",
       "        text-align: right;\n",
       "    }\n",
       "</style>\n",
       "<table border=\"1\" class=\"dataframe\">\n",
       "  <thead>\n",
       "    <tr style=\"text-align: right;\">\n",
       "      <th></th>\n",
       "      <th>PassengerId</th>\n",
       "      <th>Survived</th>\n",
       "      <th>Pclass</th>\n",
       "      <th>Name</th>\n",
       "      <th>Sex</th>\n",
       "      <th>Age</th>\n",
       "      <th>SibSp</th>\n",
       "      <th>Parch</th>\n",
       "      <th>Ticket</th>\n",
       "      <th>Fare</th>\n",
       "      <th>Embarked</th>\n",
       "    </tr>\n",
       "  </thead>\n",
       "  <tbody>\n",
       "    <tr>\n",
       "      <th>0</th>\n",
       "      <td>1</td>\n",
       "      <td>0</td>\n",
       "      <td>3</td>\n",
       "      <td>Braund, Mr. Owen Harris</td>\n",
       "      <td>male</td>\n",
       "      <td>22.0</td>\n",
       "      <td>1</td>\n",
       "      <td>0</td>\n",
       "      <td>A/5 21171</td>\n",
       "      <td>7.2500</td>\n",
       "      <td>S</td>\n",
       "    </tr>\n",
       "    <tr>\n",
       "      <th>1</th>\n",
       "      <td>2</td>\n",
       "      <td>1</td>\n",
       "      <td>1</td>\n",
       "      <td>Cumings, Mrs. John Bradley (Florence Briggs Th...</td>\n",
       "      <td>female</td>\n",
       "      <td>38.0</td>\n",
       "      <td>1</td>\n",
       "      <td>0</td>\n",
       "      <td>PC 17599</td>\n",
       "      <td>71.2833</td>\n",
       "      <td>C</td>\n",
       "    </tr>\n",
       "    <tr>\n",
       "      <th>2</th>\n",
       "      <td>3</td>\n",
       "      <td>1</td>\n",
       "      <td>3</td>\n",
       "      <td>Heikkinen, Miss. Laina</td>\n",
       "      <td>female</td>\n",
       "      <td>26.0</td>\n",
       "      <td>0</td>\n",
       "      <td>0</td>\n",
       "      <td>STON/O2. 3101282</td>\n",
       "      <td>7.9250</td>\n",
       "      <td>S</td>\n",
       "    </tr>\n",
       "    <tr>\n",
       "      <th>3</th>\n",
       "      <td>4</td>\n",
       "      <td>1</td>\n",
       "      <td>1</td>\n",
       "      <td>Futrelle, Mrs. Jacques Heath (Lily May Peel)</td>\n",
       "      <td>female</td>\n",
       "      <td>35.0</td>\n",
       "      <td>1</td>\n",
       "      <td>0</td>\n",
       "      <td>113803</td>\n",
       "      <td>53.1000</td>\n",
       "      <td>S</td>\n",
       "    </tr>\n",
       "    <tr>\n",
       "      <th>4</th>\n",
       "      <td>5</td>\n",
       "      <td>0</td>\n",
       "      <td>3</td>\n",
       "      <td>Allen, Mr. William Henry</td>\n",
       "      <td>male</td>\n",
       "      <td>35.0</td>\n",
       "      <td>0</td>\n",
       "      <td>0</td>\n",
       "      <td>373450</td>\n",
       "      <td>8.0500</td>\n",
       "      <td>S</td>\n",
       "    </tr>\n",
       "    <tr>\n",
       "      <th>...</th>\n",
       "      <td>...</td>\n",
       "      <td>...</td>\n",
       "      <td>...</td>\n",
       "      <td>...</td>\n",
       "      <td>...</td>\n",
       "      <td>...</td>\n",
       "      <td>...</td>\n",
       "      <td>...</td>\n",
       "      <td>...</td>\n",
       "      <td>...</td>\n",
       "      <td>...</td>\n",
       "    </tr>\n",
       "    <tr>\n",
       "      <th>886</th>\n",
       "      <td>887</td>\n",
       "      <td>0</td>\n",
       "      <td>2</td>\n",
       "      <td>Montvila, Rev. Juozas</td>\n",
       "      <td>male</td>\n",
       "      <td>27.0</td>\n",
       "      <td>0</td>\n",
       "      <td>0</td>\n",
       "      <td>211536</td>\n",
       "      <td>13.0000</td>\n",
       "      <td>S</td>\n",
       "    </tr>\n",
       "    <tr>\n",
       "      <th>887</th>\n",
       "      <td>888</td>\n",
       "      <td>1</td>\n",
       "      <td>1</td>\n",
       "      <td>Graham, Miss. Margaret Edith</td>\n",
       "      <td>female</td>\n",
       "      <td>19.0</td>\n",
       "      <td>0</td>\n",
       "      <td>0</td>\n",
       "      <td>112053</td>\n",
       "      <td>30.0000</td>\n",
       "      <td>S</td>\n",
       "    </tr>\n",
       "    <tr>\n",
       "      <th>888</th>\n",
       "      <td>889</td>\n",
       "      <td>0</td>\n",
       "      <td>3</td>\n",
       "      <td>Johnston, Miss. Catherine Helen \"Carrie\"</td>\n",
       "      <td>female</td>\n",
       "      <td>NaN</td>\n",
       "      <td>1</td>\n",
       "      <td>2</td>\n",
       "      <td>W./C. 6607</td>\n",
       "      <td>23.4500</td>\n",
       "      <td>S</td>\n",
       "    </tr>\n",
       "    <tr>\n",
       "      <th>889</th>\n",
       "      <td>890</td>\n",
       "      <td>1</td>\n",
       "      <td>1</td>\n",
       "      <td>Behr, Mr. Karl Howell</td>\n",
       "      <td>male</td>\n",
       "      <td>26.0</td>\n",
       "      <td>0</td>\n",
       "      <td>0</td>\n",
       "      <td>111369</td>\n",
       "      <td>30.0000</td>\n",
       "      <td>C</td>\n",
       "    </tr>\n",
       "    <tr>\n",
       "      <th>890</th>\n",
       "      <td>891</td>\n",
       "      <td>0</td>\n",
       "      <td>3</td>\n",
       "      <td>Dooley, Mr. Patrick</td>\n",
       "      <td>male</td>\n",
       "      <td>32.0</td>\n",
       "      <td>0</td>\n",
       "      <td>0</td>\n",
       "      <td>370376</td>\n",
       "      <td>7.7500</td>\n",
       "      <td>Q</td>\n",
       "    </tr>\n",
       "  </tbody>\n",
       "</table>\n",
       "<p>891 rows × 11 columns</p>\n",
       "</div>"
      ],
      "text/plain": [
       "     PassengerId  Survived  Pclass  \\\n",
       "0              1         0       3   \n",
       "1              2         1       1   \n",
       "2              3         1       3   \n",
       "3              4         1       1   \n",
       "4              5         0       3   \n",
       "..           ...       ...     ...   \n",
       "886          887         0       2   \n",
       "887          888         1       1   \n",
       "888          889         0       3   \n",
       "889          890         1       1   \n",
       "890          891         0       3   \n",
       "\n",
       "                                                  Name     Sex   Age  SibSp  \\\n",
       "0                              Braund, Mr. Owen Harris    male  22.0      1   \n",
       "1    Cumings, Mrs. John Bradley (Florence Briggs Th...  female  38.0      1   \n",
       "2                               Heikkinen, Miss. Laina  female  26.0      0   \n",
       "3         Futrelle, Mrs. Jacques Heath (Lily May Peel)  female  35.0      1   \n",
       "4                             Allen, Mr. William Henry    male  35.0      0   \n",
       "..                                                 ...     ...   ...    ...   \n",
       "886                              Montvila, Rev. Juozas    male  27.0      0   \n",
       "887                       Graham, Miss. Margaret Edith  female  19.0      0   \n",
       "888           Johnston, Miss. Catherine Helen \"Carrie\"  female   NaN      1   \n",
       "889                              Behr, Mr. Karl Howell    male  26.0      0   \n",
       "890                                Dooley, Mr. Patrick    male  32.0      0   \n",
       "\n",
       "     Parch            Ticket     Fare Embarked  \n",
       "0        0         A/5 21171   7.2500        S  \n",
       "1        0          PC 17599  71.2833        C  \n",
       "2        0  STON/O2. 3101282   7.9250        S  \n",
       "3        0            113803  53.1000        S  \n",
       "4        0            373450   8.0500        S  \n",
       "..     ...               ...      ...      ...  \n",
       "886      0            211536  13.0000        S  \n",
       "887      0            112053  30.0000        S  \n",
       "888      2        W./C. 6607  23.4500        S  \n",
       "889      0            111369  30.0000        C  \n",
       "890      0            370376   7.7500        Q  \n",
       "\n",
       "[891 rows x 11 columns]"
      ]
     },
     "execution_count": 21,
     "metadata": {},
     "output_type": "execute_result"
    }
   ],
   "source": [
    "df"
   ]
  },
  {
   "cell_type": "markdown",
   "id": "ec628dab",
   "metadata": {},
   "source": [
    "## 5. Updating the missing values in the age column"
   ]
  },
  {
   "cell_type": "code",
   "execution_count": 22,
   "id": "df376753",
   "metadata": {},
   "outputs": [],
   "source": [
    "# Mask of female (filter data)\n",
    "mask_female=df['Sex']=='female'"
   ]
  },
  {
   "cell_type": "code",
   "execution_count": 23,
   "id": "efa647d2",
   "metadata": {},
   "outputs": [
    {
     "name": "stdout",
     "output_type": "stream",
     "text": [
      "<class 'pandas.core.frame.DataFrame'>\n",
      "Int64Index: 314 entries, 1 to 888\n",
      "Data columns (total 11 columns):\n",
      " #   Column       Non-Null Count  Dtype  \n",
      "---  ------       --------------  -----  \n",
      " 0   PassengerId  314 non-null    int64  \n",
      " 1   Survived     314 non-null    int64  \n",
      " 2   Pclass       314 non-null    int64  \n",
      " 3   Name         314 non-null    object \n",
      " 4   Sex          314 non-null    object \n",
      " 5   Age          261 non-null    float64\n",
      " 6   SibSp        314 non-null    int64  \n",
      " 7   Parch        314 non-null    int64  \n",
      " 8   Ticket       314 non-null    object \n",
      " 9   Fare         314 non-null    float64\n",
      " 10  Embarked     312 non-null    object \n",
      "dtypes: float64(2), int64(5), object(4)\n",
      "memory usage: 29.4+ KB\n"
     ]
    }
   ],
   "source": [
    "# Check before updating how many null values are in column Age\n",
    "df[mask_female].info()"
   ]
  },
  {
   "cell_type": "code",
   "execution_count": 24,
   "id": "bb630546",
   "metadata": {},
   "outputs": [
    {
     "data": {
      "text/plain": [
       "27.0"
      ]
     },
     "execution_count": 24,
     "metadata": {},
     "output_type": "execute_result"
    }
   ],
   "source": [
    "# Calculate the median age of all female passengers\n",
    "median_age_female=df[mask_female]['Age'].median()\n",
    "median_age_female"
   ]
  },
  {
   "cell_type": "code",
   "execution_count": 25,
   "id": "d048376b",
   "metadata": {},
   "outputs": [],
   "source": [
    "# Update missing values in column Age with median_age_female\n",
    "df.loc[mask_female & df['Age'].isnull(),'Age']= median_age_female"
   ]
  },
  {
   "cell_type": "code",
   "execution_count": 26,
   "id": "5a108bfe",
   "metadata": {},
   "outputs": [
    {
     "name": "stdout",
     "output_type": "stream",
     "text": [
      "<class 'pandas.core.frame.DataFrame'>\n",
      "Int64Index: 314 entries, 1 to 888\n",
      "Data columns (total 11 columns):\n",
      " #   Column       Non-Null Count  Dtype  \n",
      "---  ------       --------------  -----  \n",
      " 0   PassengerId  314 non-null    int64  \n",
      " 1   Survived     314 non-null    int64  \n",
      " 2   Pclass       314 non-null    int64  \n",
      " 3   Name         314 non-null    object \n",
      " 4   Sex          314 non-null    object \n",
      " 5   Age          314 non-null    float64\n",
      " 6   SibSp        314 non-null    int64  \n",
      " 7   Parch        314 non-null    int64  \n",
      " 8   Ticket       314 non-null    object \n",
      " 9   Fare         314 non-null    float64\n",
      " 10  Embarked     312 non-null    object \n",
      "dtypes: float64(2), int64(5), object(4)\n",
      "memory usage: 29.4+ KB\n"
     ]
    }
   ],
   "source": [
    "# Check the updating\n",
    "df[mask_female].info()"
   ]
  },
  {
   "cell_type": "markdown",
   "id": "eb4989f1",
   "metadata": {},
   "source": [
    "## 6. Updating the missing values in the age column for men"
   ]
  },
  {
   "cell_type": "code",
   "execution_count": 27,
   "id": "4f3da08b",
   "metadata": {},
   "outputs": [
    {
     "data": {
      "text/plain": [
       "PassengerId      0\n",
       "Survived         0\n",
       "Pclass           0\n",
       "Name             0\n",
       "Sex              0\n",
       "Age            124\n",
       "SibSp            0\n",
       "Parch            0\n",
       "Ticket           0\n",
       "Fare             0\n",
       "Embarked         0\n",
       "dtype: int64"
      ]
     },
     "execution_count": 27,
     "metadata": {},
     "output_type": "execute_result"
    }
   ],
   "source": [
    "#  Mask of male (filter data)\n",
    "mask_male = df['Sex']== 'male'\n",
    "df[mask_male].isnull().sum()"
   ]
  },
  {
   "cell_type": "code",
   "execution_count": 28,
   "id": "7183afdd",
   "metadata": {},
   "outputs": [
    {
     "data": {
      "text/plain": [
       "29.0"
      ]
     },
     "execution_count": 28,
     "metadata": {},
     "output_type": "execute_result"
    }
   ],
   "source": [
    "# Calculate the median age of all male passengers\n",
    "median_age_male= df[mask_male]['Age'].median()\n",
    "median_age_male"
   ]
  },
  {
   "cell_type": "code",
   "execution_count": 29,
   "id": "01122761",
   "metadata": {},
   "outputs": [],
   "source": [
    "# Update missing values in column Age with median_age_male\n",
    "df['Age']=df['Age'].fillna(median_age_male)"
   ]
  },
  {
   "cell_type": "code",
   "execution_count": 30,
   "id": "b965df5b",
   "metadata": {},
   "outputs": [
    {
     "data": {
      "text/plain": [
       "PassengerId    0\n",
       "Survived       0\n",
       "Pclass         0\n",
       "Name           0\n",
       "Sex            0\n",
       "Age            0\n",
       "SibSp          0\n",
       "Parch          0\n",
       "Ticket         0\n",
       "Fare           0\n",
       "Embarked       0\n",
       "dtype: int64"
      ]
     },
     "execution_count": 30,
     "metadata": {},
     "output_type": "execute_result"
    }
   ],
   "source": [
    "# Check the updating\n",
    "df[mask_male].isnull().sum()"
   ]
  },
  {
   "cell_type": "markdown",
   "id": "1f87d8c8",
   "metadata": {},
   "source": [
    "## 7. Filling in the missing value in the embarked column with the most commonly appearing value (the most repeated value in this column)"
   ]
  },
  {
   "cell_type": "code",
   "execution_count": 31,
   "id": "00463b5f",
   "metadata": {},
   "outputs": [
    {
     "data": {
      "text/plain": [
       "2"
      ]
     },
     "execution_count": 31,
     "metadata": {},
     "output_type": "execute_result"
    }
   ],
   "source": [
    "# The number of null values in Embarked column\n",
    "df['Embarked'] .isnull(). sum()"
   ]
  },
  {
   "cell_type": "code",
   "execution_count": 32,
   "id": "e67b87b6",
   "metadata": {},
   "outputs": [
    {
     "name": "stdout",
     "output_type": "stream",
     "text": [
      "<class 'pandas.core.frame.DataFrame'>\n",
      "RangeIndex: 891 entries, 0 to 890\n",
      "Data columns (total 11 columns):\n",
      " #   Column       Non-Null Count  Dtype  \n",
      "---  ------       --------------  -----  \n",
      " 0   PassengerId  891 non-null    int64  \n",
      " 1   Survived     891 non-null    int64  \n",
      " 2   Pclass       891 non-null    int64  \n",
      " 3   Name         891 non-null    object \n",
      " 4   Sex          891 non-null    object \n",
      " 5   Age          891 non-null    float64\n",
      " 6   SibSp        891 non-null    int64  \n",
      " 7   Parch        891 non-null    int64  \n",
      " 8   Ticket       891 non-null    object \n",
      " 9   Fare         891 non-null    float64\n",
      " 10  Embarked     889 non-null    object \n",
      "dtypes: float64(2), int64(5), object(4)\n",
      "memory usage: 76.7+ KB\n"
     ]
    }
   ],
   "source": [
    "df.info()"
   ]
  },
  {
   "cell_type": "code",
   "execution_count": 33,
   "id": "720b08a7",
   "metadata": {},
   "outputs": [
    {
     "data": {
      "text/plain": [
       "'S'"
      ]
     },
     "execution_count": 33,
     "metadata": {},
     "output_type": "execute_result"
    }
   ],
   "source": [
    "# Return the index of the most repeated value\n",
    "mask_idxmax=df['Embarked'].value_counts().idxmax()\n",
    "mask_idxmax"
   ]
  },
  {
   "cell_type": "code",
   "execution_count": 34,
   "id": "b7f91e3f",
   "metadata": {},
   "outputs": [],
   "source": [
    "# Fill the null values\n",
    "df['Embarked']= df['Embarked'].fillna(mask_idxmax)"
   ]
  },
  {
   "cell_type": "code",
   "execution_count": 35,
   "id": "f33a2754",
   "metadata": {},
   "outputs": [
    {
     "data": {
      "text/plain": [
       "0"
      ]
     },
     "execution_count": 35,
     "metadata": {},
     "output_type": "execute_result"
    }
   ],
   "source": [
    "# Check the update\n",
    "df['Embarked'].isna().sum()"
   ]
  },
  {
   "cell_type": "markdown",
   "id": "bc96d8c1",
   "metadata": {},
   "source": [
    "# 8. Create a chart to show the distribution of passengers by gender. Choose a chart that suits you best, and design it so it is clear and presentable."
   ]
  },
  {
   "cell_type": "markdown",
   "id": "3ab11330",
   "metadata": {},
   "source": [
    "##  Distribution of passengers by gender"
   ]
  },
  {
   "cell_type": "code",
   "execution_count": 36,
   "id": "f2b33d7e",
   "metadata": {},
   "outputs": [
    {
     "data": {
      "text/plain": [
       "Sex\n",
       "female    314\n",
       "male      577\n",
       "Name: PassengerId, dtype: int64"
      ]
     },
     "execution_count": 36,
     "metadata": {},
     "output_type": "execute_result"
    }
   ],
   "source": [
    "# Grouping data by Gender\n",
    "df.groupby('Sex')['PassengerId'].count()"
   ]
  },
  {
   "cell_type": "code",
   "execution_count": 37,
   "id": "d1494c62",
   "metadata": {},
   "outputs": [
    {
     "data": {
      "text/plain": [
       "Sex\n",
       "female    314\n",
       "male      577\n",
       "dtype: int64"
      ]
     },
     "execution_count": 37,
     "metadata": {},
     "output_type": "execute_result"
    }
   ],
   "source": [
    "df.groupby('Sex').size()"
   ]
  },
  {
   "cell_type": "code",
   "execution_count": 38,
   "id": "1aeca027",
   "metadata": {},
   "outputs": [],
   "source": [
    "# Importing matplotlib and seaborn\n",
    "import matplotlib.pyplot as plt\n",
    "import seaborn as sns\n",
    "%matplotlib inline"
   ]
  },
  {
   "cell_type": "code",
   "execution_count": 39,
   "id": "a0e0a519",
   "metadata": {},
   "outputs": [
    {
     "data": {
      "text/plain": [
       "<Axes: title={'center': ' Gender distribution of passengers '}>"
      ]
     },
     "execution_count": 39,
     "metadata": {},
     "output_type": "execute_result"
    },
    {
     "data": {
      "image/png": "[encoded data removed]",
      "text/plain": [
       "<Figure size 500x500 with 1 Axes>"
      ]
     },
     "metadata": {},
     "output_type": "display_data"
    }
   ],
   "source": [
    "# Creating a chart\n",
    "df.groupby('Sex').size().plot.pie( title= \" Gender distribution of passengers \",\n",
    "                                  colors=('lightcoral','deepskyblue'),\n",
    "                                  labels=('Female', 'Male'),\n",
    "                                  autopct='%1.1f%%',\n",
    "                                  pctdistance=0.7,\n",
    "                                  shadow=True, \n",
    "                                  explode=(0.1, 0),\n",
    "                                  figsize=(5,5)                               \n",
    "                                 )"
   ]
  },
  {
   "cell_type": "code",
   "execution_count": null,
   "id": "1e81ffea",
   "metadata": {},
   "outputs": [],
   "source": [
    "# Conclusion:\n",
    "# The pie chart shows that male passengers had greater prevalence than female on the board of Titanic, 64.8% and 35.2% corresponding. "
   ]
  },
  {
   "cell_type": "markdown",
   "id": "30914a73",
   "metadata": {},
   "source": [
    "# 9. Create a chart to show the distribution of passengers by gender (Sex) and whether they survived (Survived) Choose a chart that suits you best, and design it to look clear and presentable."
   ]
  },
  {
   "cell_type": "code",
   "execution_count": 41,
   "id": "faddbe3b",
   "metadata": {},
   "outputs": [
    {
     "data": {
      "text/html": [
       "<div>\n",
       "<style scoped>\n",
       "    .dataframe tbody tr th:only-of-type {\n",
       "        vertical-align: middle;\n",
       "    }\n",
       "\n",
       "    .dataframe tbody tr th {\n",
       "        vertical-align: top;\n",
       "    }\n",
       "\n",
       "    .dataframe thead th {\n",
       "        text-align: right;\n",
       "    }\n",
       "</style>\n",
       "<table border=\"1\" class=\"dataframe\">\n",
       "  <thead>\n",
       "    <tr style=\"text-align: right;\">\n",
       "      <th>Sex</th>\n",
       "      <th>female</th>\n",
       "      <th>male</th>\n",
       "    </tr>\n",
       "    <tr>\n",
       "      <th>Survived</th>\n",
       "      <th></th>\n",
       "      <th></th>\n",
       "    </tr>\n",
       "  </thead>\n",
       "  <tbody>\n",
       "    <tr>\n",
       "      <th>0</th>\n",
       "      <td>81</td>\n",
       "      <td>468</td>\n",
       "    </tr>\n",
       "    <tr>\n",
       "      <th>1</th>\n",
       "      <td>233</td>\n",
       "      <td>109</td>\n",
       "    </tr>\n",
       "  </tbody>\n",
       "</table>\n",
       "</div>"
      ],
      "text/plain": [
       "Sex       female  male\n",
       "Survived              \n",
       "0             81   468\n",
       "1            233   109"
      ]
     },
     "execution_count": 41,
     "metadata": {},
     "output_type": "execute_result"
    }
   ],
   "source": [
    "# Creating a pivot table with the data needed for chart\n",
    "gender_survived= df.pivot_table(index='Survived',columns='Sex',values='PassengerId', aggfunc='count')\n",
    "gender_survived"
   ]
  },
  {
   "cell_type": "code",
   "execution_count": 42,
   "id": "3ee161ac",
   "metadata": {},
   "outputs": [
    {
     "data": {
      "image/png": "[encoded data removed]",
      "text/plain": [
       "<Figure size 800x600 with 1 Axes>"
      ]
     },
     "metadata": {},
     "output_type": "display_data"
    }
   ],
   "source": [
    "# Creating a bar chart to show differences between groups \n",
    "gender_survived.plot.bar(color=('lightcoral','deepskyblue'),\n",
    "                        figsize=(8,6), \n",
    "                         fontsize=12,\n",
    "                        stacked=True)\n",
    "\n",
    "plt.title(' Survival distribution by Gender ')\n",
    "\n",
    "plt.ylabel('Number of Passengers')\n",
    "\n",
    "plt.xticks([0,1],labels=['Not_survived','Survived'],rotation=45) \n",
    "plt.show()\n"
   ]
  },
  {
   "cell_type": "code",
   "execution_count": 43,
   "id": "e69299fc",
   "metadata": {},
   "outputs": [],
   "source": [
    "# Conclusion:\n",
    "# The stacked bar chart represent the comparison between two groups of Not_survived and Survived male and female. \n",
    "# More people died than survived.\n",
    "# In category of Not_survived the more prevalent are males, but in Survived category there are more female, so more women survived than men."
   ]
  },
  {
   "cell_type": "markdown",
   "id": "62b8a977",
   "metadata": {},
   "source": [
    "##  10. Use a displot chart to view the age distribution of passengers by age."
   ]
  },
  {
   "cell_type": "code",
   "execution_count": 44,
   "id": "17c11090",
   "metadata": {},
   "outputs": [
    {
     "data": {
      "text/plain": [
       "<matplotlib.legend.Legend at 0x1e018c784f0>"
      ]
     },
     "execution_count": 44,
     "metadata": {},
     "output_type": "execute_result"
    },
    {
     "data": {
      "image/png": "[encoded data removed]",
      "text/plain": [
       "<Figure size 1000x500 with 2 Axes>"
      ]
     },
     "metadata": {},
     "output_type": "display_data"
    }
   ],
   "source": [
    "# Separate it into two charts according to the values in the gender column=col\n",
    "# Within each chart, split the data into series according to the data in the survived column =hue\n",
    "import seaborn as sns\n",
    "sns.displot(data=df, x='Age', hue='Survived', multiple='stack', col='Sex',legend=False)\n",
    "plt.legend(\n",
    "    loc='best',\n",
    "    shadow=True,\n",
    "    title='Legend',\n",
    "    labels=['Survived','Not_survived'])"
   ]
  },
  {
   "cell_type": "code",
   "execution_count": 45,
   "id": "367351ea",
   "metadata": {},
   "outputs": [],
   "source": [
    "# Conclusion:\n",
    "# The displot shows the distribution of age for male and female and also for each category it splits the data according to Survived column.\n",
    "# The predominant category of age for male is between 20-40 y.o, and for women is 15-40 y.o."
   ]
  },
  {
   "cell_type": "markdown",
   "id": "58e4c02f",
   "metadata": {},
   "source": [
    "##  11. Correlation between different columns"
   ]
  },
  {
   "cell_type": "code",
   "execution_count": 47,
   "id": "ecd45306",
   "metadata": {},
   "outputs": [
    {
     "name": "stderr",
     "output_type": "stream",
     "text": [
      "C:\\Users\\Windows\\AppData\\Local\\Temp\\ipykernel_12320\\387180978.py:2: FutureWarning: The default value of numeric_only in DataFrame.corr is deprecated. In a future version, it will default to False. Select only valid columns or specify the value of numeric_only to silence this warning.\n",
      "  corr_mtx= df[['Survived','Pclass','Age','SibSp','Parch','Fare','Ticket','Embarked']].corr()\n"
     ]
    },
    {
     "data": {
      "text/html": [
       "<div>\n",
       "<style scoped>\n",
       "    .dataframe tbody tr th:only-of-type {\n",
       "        vertical-align: middle;\n",
       "    }\n",
       "\n",
       "    .dataframe tbody tr th {\n",
       "        vertical-align: top;\n",
       "    }\n",
       "\n",
       "    .dataframe thead th {\n",
       "        text-align: right;\n",
       "    }\n",
       "</style>\n",
       "<table border=\"1\" class=\"dataframe\">\n",
       "  <thead>\n",
       "    <tr style=\"text-align: right;\">\n",
       "      <th></th>\n",
       "      <th>Survived</th>\n",
       "      <th>Pclass</th>\n",
       "      <th>Age</th>\n",
       "      <th>SibSp</th>\n",
       "      <th>Parch</th>\n",
       "      <th>Fare</th>\n",
       "    </tr>\n",
       "  </thead>\n",
       "  <tbody>\n",
       "    <tr>\n",
       "      <th>Survived</th>\n",
       "      <td>1.000000</td>\n",
       "      <td>-0.338481</td>\n",
       "      <td>-0.073296</td>\n",
       "      <td>-0.035322</td>\n",
       "      <td>0.081629</td>\n",
       "      <td>0.257307</td>\n",
       "    </tr>\n",
       "    <tr>\n",
       "      <th>Pclass</th>\n",
       "      <td>-0.338481</td>\n",
       "      <td>1.000000</td>\n",
       "      <td>-0.338056</td>\n",
       "      <td>0.083081</td>\n",
       "      <td>0.018443</td>\n",
       "      <td>-0.549500</td>\n",
       "    </tr>\n",
       "    <tr>\n",
       "      <th>Age</th>\n",
       "      <td>-0.073296</td>\n",
       "      <td>-0.338056</td>\n",
       "      <td>1.000000</td>\n",
       "      <td>-0.236376</td>\n",
       "      <td>-0.176038</td>\n",
       "      <td>0.094161</td>\n",
       "    </tr>\n",
       "    <tr>\n",
       "      <th>SibSp</th>\n",
       "      <td>-0.035322</td>\n",
       "      <td>0.083081</td>\n",
       "      <td>-0.236376</td>\n",
       "      <td>1.000000</td>\n",
       "      <td>0.414838</td>\n",
       "      <td>0.159651</td>\n",
       "    </tr>\n",
       "    <tr>\n",
       "      <th>Parch</th>\n",
       "      <td>0.081629</td>\n",
       "      <td>0.018443</td>\n",
       "      <td>-0.176038</td>\n",
       "      <td>0.414838</td>\n",
       "      <td>1.000000</td>\n",
       "      <td>0.216225</td>\n",
       "    </tr>\n",
       "    <tr>\n",
       "      <th>Fare</th>\n",
       "      <td>0.257307</td>\n",
       "      <td>-0.549500</td>\n",
       "      <td>0.094161</td>\n",
       "      <td>0.159651</td>\n",
       "      <td>0.216225</td>\n",
       "      <td>1.000000</td>\n",
       "    </tr>\n",
       "  </tbody>\n",
       "</table>\n",
       "</div>"
      ],
      "text/plain": [
       "          Survived    Pclass       Age     SibSp     Parch      Fare\n",
       "Survived  1.000000 -0.338481 -0.073296 -0.035322  0.081629  0.257307\n",
       "Pclass   -0.338481  1.000000 -0.338056  0.083081  0.018443 -0.549500\n",
       "Age      -0.073296 -0.338056  1.000000 -0.236376 -0.176038  0.094161\n",
       "SibSp    -0.035322  0.083081 -0.236376  1.000000  0.414838  0.159651\n",
       "Parch     0.081629  0.018443 -0.176038  0.414838  1.000000  0.216225\n",
       "Fare      0.257307 -0.549500  0.094161  0.159651  0.216225  1.000000"
      ]
     },
     "execution_count": 47,
     "metadata": {},
     "output_type": "execute_result"
    }
   ],
   "source": [
    "# Create a correlation table by applying the corr () method \n",
    "corr_mtx= df[['Survived','Pclass','Age','SibSp','Parch','Fare','Ticket','Embarked']].corr()\n",
    "corr_mtx"
   ]
  },
  {
   "cell_type": "code",
   "execution_count": 48,
   "id": "089a1b6c",
   "metadata": {},
   "outputs": [
    {
     "data": {
      "text/plain": [
       "<Axes: >"
      ]
     },
     "execution_count": 48,
     "metadata": {},
     "output_type": "execute_result"
    },
    {
     "data": {
      "image/png": "[encoded data removed]",
      "text/plain": [
       "<Figure size 640x480 with 2 Axes>"
      ]
     },
     "metadata": {},
     "output_type": "display_data"
    }
   ],
   "source": [
    "# Create a heatmap chart\n",
    "sns.heatmap(corr_mtx, annot=True, cmap='Blues', fmt='.2f')"
   ]
  },
  {
   "cell_type": "code",
   "execution_count": 49,
   "id": "e2e31782",
   "metadata": {},
   "outputs": [],
   "source": [
    "# Conclusion:\n",
    "# The closer the value is to 1 (or -1), the stronger a relationship. The closer a number is to 0, the weaker the relationship.\n",
    "# A negative coefficient will tell us that the relationship is negative, meaning that as one value increases, the other decreases. Similarly, a positive coefficient indicates that as one value increases, so does the other.\n",
    "# A diagonal line of the values of 1 is because these values represent the correlation between a column and itself.\n",
    "# The strongest correlation is 0.41, and the weakest is 0.02"
   ]
  },
  {
   "cell_type": "markdown",
   "id": "531e5a6a",
   "metadata": {},
   "source": [
    "# 12. Define 3 research questions that will help us find out who has a high chance of surviving, and then answer the questions you have defined"
   ]
  },
  {
   "cell_type": "markdown",
   "id": "4637aa8c",
   "metadata": {},
   "source": [
    "# 1.How age contributed to survival rates?"
   ]
  },
  {
   "cell_type": "code",
   "execution_count": 50,
   "id": "8e078e34",
   "metadata": {},
   "outputs": [
    {
     "data": {
      "image/png": "[encoded data removed]",
      "text/plain": [
       "<Figure size 500x500 with 1 Axes>"
      ]
     },
     "metadata": {},
     "output_type": "display_data"
    }
   ],
   "source": [
    "# Create a distribution plot-histogram \n",
    "sns.displot(data=df, x='Age', hue='Survived', multiple='stack', legend=False)\n",
    "plt.legend(\n",
    "    loc='best',\n",
    "    shadow=True,\n",
    "    title='Legend',\n",
    "    labels=['Survived','Not_survived'])\n",
    "\n",
    "plt.title('Survival Distribution by Age',\n",
    "         loc='center')\n",
    "\n",
    "# Add mean line(average age)- survived:\n",
    "mean_age_survived = df[df['Survived'] == 1]['Age'].mean()\n",
    "plt.axvline(x=mean_age_survived, color='red')\n",
    "\n",
    "# Add mean line(average age)- not_survived:\n",
    "mean_age_survived = df[df['Survived'] == 0]['Age'].mean()\n",
    "plt.axvline(x=mean_age_survived, color='blue',linestyle='--' )\n",
    "\n",
    "plt.show()"
   ]
  },
  {
   "cell_type": "code",
   "execution_count": 51,
   "id": "0e49e841",
   "metadata": {},
   "outputs": [],
   "source": [
    "# Conclusion:\n",
    "# The displot shows that the age of passengers that survived is more prevalent between 20-40 y.o. with average survival age of 28.23 y.o.-younger than non-survivors(30.19 y.o.)."
   ]
  },
  {
   "cell_type": "code",
   "execution_count": 52,
   "id": "343bae21",
   "metadata": {},
   "outputs": [
    {
     "data": {
      "text/plain": [
       "28.23295321637427"
      ]
     },
     "execution_count": 52,
     "metadata": {},
     "output_type": "execute_result"
    }
   ],
   "source": [
    "mean_age_survived = df[df['Survived'] == 1]['Age'].mean()\n",
    "mean_age_survived"
   ]
  },
  {
   "cell_type": "code",
   "execution_count": 53,
   "id": "a5b3af22",
   "metadata": {},
   "outputs": [
    {
     "data": {
      "text/plain": [
       "30.193989071038253"
      ]
     },
     "execution_count": 53,
     "metadata": {},
     "output_type": "execute_result"
    }
   ],
   "source": [
    "mean_age_survived = df[df['Survived'] == 0]['Age'].mean()\n",
    "mean_age_survived"
   ]
  },
  {
   "cell_type": "code",
   "execution_count": 54,
   "id": "df2345da",
   "metadata": {},
   "outputs": [
    {
     "data": {
      "image/png": "[encoded data removed]",
      "text/plain": [
       "<Figure size 1000x500 with 2 Axes>"
      ]
     },
     "metadata": {},
     "output_type": "display_data"
    }
   ],
   "source": [
    "# Create a Multi-Panel plots by gender column=col \n",
    "g= sns.displot(data=df, x='Age', hue='Survived', multiple='stack', col='Sex',legend=False)\n",
    "plt.legend(\n",
    "    loc='best',\n",
    "    shadow=True,\n",
    "    title='Legend',\n",
    "    labels=['Survived','Not_survived', ])\n",
    "\n",
    "# Add mean line(average age) for male-survived:\n",
    "mask1=df['Survived'] == 1\n",
    "mask_m=df['Sex'] == 'male'\n",
    "masks=[mask1 & mask_m]\n",
    "mean_age_survived_male = df.loc[mask1 & mask_m,'Age'].mean()\n",
    "g.axes[0][0].axvline(x=mean_age_survived_male, color='red')\n",
    "\n",
    "# Add mean line(average age) for male- not_survived:\n",
    "mask0=df['Survived'] == 0\n",
    "mask_m=df['Sex'] == 'male'\n",
    "masks=[mask0 & mask_m]\n",
    "mean_age_survived_male = df.loc[mask0 & mask_m,'Age'].mean()\n",
    "g.axes[0][0].axvline(x=mean_age_survived_male, color='blue', linestyle='--')\n",
    "\n",
    "# Add mean line(average age) for female- survived:\n",
    "mask1=df['Survived'] == 1\n",
    "mask_f=df['Sex'] == 'female'\n",
    "masks=[mask1 & mask_f]\n",
    "mean_age_survived_female = df.loc[mask1 & mask_f,'Age'].mean()\n",
    "g.axes[0][1].axvline(x=mean_age_survived_female, color='red')\n",
    "\n",
    "# Add mean line(average age) for female- not_survived:\n",
    "mask0=df['Survived'] == 0\n",
    "mask_f=df['Sex'] == 'female'\n",
    "masks=[mask1 & mask_f]\n",
    "mean_age_survived_female = df.loc[mask0 & mask_f,'Age'].mean()\n",
    "g.axes[0][1].axvline(x=mean_age_survived_female, color='blue', linestyle='--')\n",
    "\n",
    "plt.show()"
   ]
  },
  {
   "cell_type": "code",
   "execution_count": 55,
   "id": "e69a035a",
   "metadata": {},
   "outputs": [],
   "source": [
    "# Conclusion:\n",
    "# In a detailed analysis of male and female age of surviving, can be noticed that male age is more predominant in interval of 30 y.o.(mean survival age-27.52 y.o.),\n",
    "# but for women predominant age interval is wider from 15-40 y.o.(mean survival age-28.56 y.o.). \n",
    "# In case of men younger passengers survived, but for women older passenger survived."
   ]
  },
  {
   "cell_type": "code",
   "execution_count": 56,
   "id": "e9cbeff7",
   "metadata": {},
   "outputs": [
    {
     "data": {
      "text/plain": [
       "27.52908256880734"
      ]
     },
     "execution_count": 56,
     "metadata": {},
     "output_type": "execute_result"
    }
   ],
   "source": [
    "# average age for male:\n",
    "mask1=df['Survived'] == 1\n",
    "mask_m=df['Sex'] == 'male'\n",
    "masks=[mask1 & mask_m]\n",
    "df.loc[mask1 & mask_m,'Age'].mean()"
   ]
  },
  {
   "cell_type": "code",
   "execution_count": 57,
   "id": "9fec0f89",
   "metadata": {},
   "outputs": [
    {
     "data": {
      "text/plain": [
       "28.56223175965665"
      ]
     },
     "execution_count": 57,
     "metadata": {},
     "output_type": "execute_result"
    }
   ],
   "source": [
    "# average age for female:\n",
    "mask1=df['Survived'] == 1\n",
    "mask2=df['Sex'] == 'female'\n",
    "masks=[mask1 & mask2]\n",
    "df.loc[mask1 & mask2,'Age'].mean()"
   ]
  },
  {
   "cell_type": "markdown",
   "id": "eacffd3a",
   "metadata": {},
   "source": [
    "# 2.Who has higher chances of surviving, male or female?"
   ]
  },
  {
   "cell_type": "code",
   "execution_count": 59,
   "id": "ea636abc",
   "metadata": {},
   "outputs": [
    {
     "data": {
      "text/html": [
       "<div>\n",
       "<style scoped>\n",
       "    .dataframe tbody tr th:only-of-type {\n",
       "        vertical-align: middle;\n",
       "    }\n",
       "\n",
       "    .dataframe tbody tr th {\n",
       "        vertical-align: top;\n",
       "    }\n",
       "\n",
       "    .dataframe thead th {\n",
       "        text-align: right;\n",
       "    }\n",
       "</style>\n",
       "<table border=\"1\" class=\"dataframe\">\n",
       "  <thead>\n",
       "    <tr style=\"text-align: right;\">\n",
       "      <th>Sex</th>\n",
       "      <th>female</th>\n",
       "      <th>male</th>\n",
       "    </tr>\n",
       "    <tr>\n",
       "      <th>Survived</th>\n",
       "      <th></th>\n",
       "      <th></th>\n",
       "    </tr>\n",
       "  </thead>\n",
       "  <tbody>\n",
       "    <tr>\n",
       "      <th>0</th>\n",
       "      <td>81</td>\n",
       "      <td>468</td>\n",
       "    </tr>\n",
       "    <tr>\n",
       "      <th>1</th>\n",
       "      <td>233</td>\n",
       "      <td>109</td>\n",
       "    </tr>\n",
       "  </tbody>\n",
       "</table>\n",
       "</div>"
      ],
      "text/plain": [
       "Sex       female  male\n",
       "Survived              \n",
       "0             81   468\n",
       "1            233   109"
      ]
     },
     "execution_count": 59,
     "metadata": {},
     "output_type": "execute_result"
    }
   ],
   "source": [
    "# Creating a pivot table with the data needed for chart\n",
    "gender_survived= df.pivot_table(index='Survived',columns='Sex',values='PassengerId', aggfunc='count')\n",
    "gender_survived"
   ]
  },
  {
   "cell_type": "code",
   "execution_count": 60,
   "id": "1e6d8973",
   "metadata": {},
   "outputs": [
    {
     "data": {
      "text/plain": [
       "891"
      ]
     },
     "execution_count": 60,
     "metadata": {},
     "output_type": "execute_result"
    }
   ],
   "source": [
    "gender_survived.sum().values.sum()"
   ]
  },
  {
   "cell_type": "code",
   "execution_count": 64,
   "id": "2cb48263",
   "metadata": {},
   "outputs": [
    {
     "data": {
      "image/png": "[encoded data removed]",
      "text/plain": [
       "<Figure size 800x600 with 1 Axes>"
      ]
     },
     "metadata": {},
     "output_type": "display_data"
    }
   ],
   "source": [
    "# Creating a bar chart to show differences between groups: Survived and Not_Survived in gender proportion \n",
    "ax= gender_survived.plot.bar(color=('lightcoral','deepskyblue'),\n",
    "                              figsize=(8,6), \n",
    "                              fontsize=12 )\n",
    "plt.title(' Survival distribution by Gender ')\n",
    "\n",
    "plt.ylabel('Number of Passengers')\n",
    "\n",
    "plt.xticks([0,1],labels=['Not_survived','Survived'],rotation=45)\n",
    "\n",
    "# Add percentage values above each bar\n",
    "for p in ax.patches:\n",
    "    percentage = f'{p.get_height() / gender_survived.sum().values.sum() * 100:.2f}%'\n",
    "    x = p.get_x() + p.get_width() / 2\n",
    "    y = p.get_height()\n",
    "    ax.annotate(percentage, (x, y), ha='center', va='bottom')\n",
    "\n",
    "plt.show()"
   ]
  },
  {
   "cell_type": "code",
   "execution_count": 65,
   "id": "5bf5c353",
   "metadata": {},
   "outputs": [],
   "source": [
    "# Conclusion:\n",
    "# In category of Not_survived the more prevalent are males 52.53% then female(9.09%), but in Survived category there are more female(26.15%) then male (12.23%).\n",
    "# More women survived than men from the whole number of passengers."
   ]
  },
  {
   "cell_type": "markdown",
   "id": "473ec435",
   "metadata": {},
   "source": [
    "# 3. Does the passenger class have an impact on survival rates?"
   ]
  },
  {
   "cell_type": "code",
   "execution_count": 67,
   "id": "2c755c1e",
   "metadata": {},
   "outputs": [
    {
     "data": {
      "text/html": [
       "<div>\n",
       "<style scoped>\n",
       "    .dataframe tbody tr th:only-of-type {\n",
       "        vertical-align: middle;\n",
       "    }\n",
       "\n",
       "    .dataframe tbody tr th {\n",
       "        vertical-align: top;\n",
       "    }\n",
       "\n",
       "    .dataframe thead th {\n",
       "        text-align: right;\n",
       "    }\n",
       "</style>\n",
       "<table border=\"1\" class=\"dataframe\">\n",
       "  <thead>\n",
       "    <tr style=\"text-align: right;\">\n",
       "      <th>Survived</th>\n",
       "      <th>0</th>\n",
       "      <th>1</th>\n",
       "    </tr>\n",
       "    <tr>\n",
       "      <th>Pclass</th>\n",
       "      <th></th>\n",
       "      <th></th>\n",
       "    </tr>\n",
       "  </thead>\n",
       "  <tbody>\n",
       "    <tr>\n",
       "      <th>1</th>\n",
       "      <td>80</td>\n",
       "      <td>136</td>\n",
       "    </tr>\n",
       "    <tr>\n",
       "      <th>2</th>\n",
       "      <td>97</td>\n",
       "      <td>87</td>\n",
       "    </tr>\n",
       "    <tr>\n",
       "      <th>3</th>\n",
       "      <td>372</td>\n",
       "      <td>119</td>\n",
       "    </tr>\n",
       "  </tbody>\n",
       "</table>\n",
       "</div>"
      ],
      "text/plain": [
       "Survived    0    1\n",
       "Pclass            \n",
       "1          80  136\n",
       "2          97   87\n",
       "3         372  119"
      ]
     },
     "execution_count": 67,
     "metadata": {},
     "output_type": "execute_result"
    }
   ],
   "source": [
    "# Aggregate the data by Passenger class and Survived\n",
    "passenger_class= df.pivot_table(index='Pclass',columns='Survived', values='PassengerId',aggfunc='count')\n",
    "passenger_class\n"
   ]
  },
  {
   "cell_type": "code",
   "execution_count": 69,
   "id": "d89e9c61",
   "metadata": {},
   "outputs": [
    {
     "data": {
      "image/png": "[encoded data removed]",
      "text/plain": [
       "<Figure size 640x480 with 1 Axes>"
      ]
     },
     "metadata": {},
     "output_type": "display_data"
    }
   ],
   "source": [
    "# Create a stacked bar chart to show comparisons between three categories: 1st, 2nd, 3rd class\n",
    "passenger_class.plot.bar(stacked=True)\n",
    "plt.legend(\n",
    "    loc='best',\n",
    "    shadow=True,\n",
    "    title='Legend',\n",
    "    labels=['Not_survived','Survived'])\n",
    "\n",
    "plt.title('Survival Distribution by Passenger Class')\n",
    "\n",
    "plt.xlabel('Passenger Class')\n",
    "plt.ylabel('Count')\n",
    "plt.xticks([0,1,2],['1st Class','2nd Class','3rd Class'], rotation=45)\n",
    "\n",
    "plt.show()"
   ]
  },
  {
   "cell_type": "code",
   "execution_count": 70,
   "id": "3ea3f82d",
   "metadata": {},
   "outputs": [],
   "source": [
    "# Conclusion:\n",
    "# Class I has higher chances of surviving, since there are more survived passengers then in other classes. "
   ]
  },
  {
   "cell_type": "markdown",
   "id": "df1fd248",
   "metadata": {},
   "source": [
    "# 4.Does the fare have an impact on survival rates?"
   ]
  },
  {
   "cell_type": "code",
   "execution_count": 71,
   "id": "95a156f5",
   "metadata": {},
   "outputs": [
    {
     "data": {
      "image/png": "[encoded data removed]",
      "text/plain": [
       "<Figure size 600x600 with 3 Axes>"
      ]
     },
     "metadata": {},
     "output_type": "display_data"
    }
   ],
   "source": [
    "#Create jointplot to see correlation between surviving and fare, and also the distribution of fare and survived.\n",
    "sns.jointplot(x='Survived', y='Fare', data=df, hue='Sex', s=200 )\n",
    "\n",
    "plt.xticks([0,1],labels=['Not_survived','Survived'],rotation=45) \n",
    "\n",
    "plt.legend(loc='upper left')\n",
    "\n",
    "\n",
    "plt.show()"
   ]
  },
  {
   "cell_type": "code",
   "execution_count": 72,
   "id": "534c0e4a",
   "metadata": {},
   "outputs": [],
   "source": [
    "# Conclusion:\n",
    "# Correlation between Survived and Fare is 0.26 this indicates that the more people pay for ticket, the higher the survival chances are.\n",
    "# The deaths are not present at a fare higher than $300, which correspond to 1st class.\n",
    "# Only 3 people paid more than 300 $ for 1st Class and survived."
   ]
  },
  {
   "cell_type": "code",
   "execution_count": 73,
   "id": "e1acd936",
   "metadata": {},
   "outputs": [
    {
     "data": {
      "text/plain": [
       "Fare\n",
       "0.0000      15\n",
       "4.0125       1\n",
       "5.0000       1\n",
       "6.2375       1\n",
       "6.4375       1\n",
       "            ..\n",
       "227.5250     4\n",
       "247.5208     2\n",
       "262.3750     2\n",
       "263.0000     4\n",
       "512.3292     3\n",
       "Length: 248, dtype: int64"
      ]
     },
     "execution_count": 73,
     "metadata": {},
     "output_type": "execute_result"
    }
   ],
   "source": [
    "#Verification\n",
    "df.groupby('Fare').size()"
   ]
  },
  {
   "cell_type": "code",
   "execution_count": 74,
   "id": "92d69cbb",
   "metadata": {},
   "outputs": [],
   "source": [
    "# Determine how many people paid 300 or more than \n",
    "mask=df['Fare'] >= 300"
   ]
  },
  {
   "cell_type": "code",
   "execution_count": 75,
   "id": "d2575fac",
   "metadata": {},
   "outputs": [
    {
     "data": {
      "text/plain": [
       "PassengerId  Survived  Pclass  Name                                Sex     Age   SibSp  Parch  Ticket    Fare      Embarked\n",
       "259          1         1       Ward, Miss. Anna                    female  35.0  0      0      PC 17755  512.3292  C           1\n",
       "680          1         1       Cardeza, Mr. Thomas Drake Martinez  male    36.0  0      1      PC 17755  512.3292  C           1\n",
       "738          1         1       Lesurer, Mr. Gustave J              male    35.0  0      0      PC 17755  512.3292  C           1\n",
       "dtype: int64"
      ]
     },
     "execution_count": 75,
     "metadata": {},
     "output_type": "execute_result"
    }
   ],
   "source": [
    "df[mask].value_counts()"
   ]
  },
  {
   "cell_type": "code",
   "execution_count": 76,
   "id": "8ae8df6a",
   "metadata": {},
   "outputs": [
    {
     "data": {
      "text/plain": [
       "512.3292"
      ]
     },
     "execution_count": 76,
     "metadata": {},
     "output_type": "execute_result"
    }
   ],
   "source": [
    "# What is the maximum fare?\n",
    "df['Fare'].max()"
   ]
  },
  {
   "cell_type": "code",
   "execution_count": null,
   "id": "a09701ed",
   "metadata": {},
   "outputs": [],
   "source": [
    "# Conclusions:\n",
    "# The age of passengers that survived is more prevalent between 20-40 y.o. So, in case of men, younger passengers had a higher chance of survival, but for women, older passengers.\n",
    "# More women survived than men.\n",
    "# Passengers in Class I had higher chances of surviving compared to other classes.\n",
    "# The higher the ticket fare, the higher the survival chances, with no deaths reported for fares higher than $300."
   ]
  }
 ],
 "metadata": {
  "kernelspec": {
   "display_name": "Python 3 (ipykernel)",
   "language": "python",
   "name": "python3"
  },
  "language_info": {
   "codemirror_mode": {
    "name": "ipython",
    "version": 3
   },
   "file_extension": ".py",
   "mimetype": "text/x-python",
   "name": "python",
   "nbconvert_exporter": "python",
   "pygments_lexer": "ipython3",
   "version": "3.10.9"
  }
 },
 "nbformat": 4,
 "nbformat_minor": 5
}
